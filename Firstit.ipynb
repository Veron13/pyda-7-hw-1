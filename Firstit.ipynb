{
 "cells": [
  {
   "cell_type": "markdown",
   "metadata": {},
   "source": [
    "# Homework №1"
   ]
  },
  {
   "cell_type": "markdown",
   "metadata": {},
   "source": [
    "## Задание №1"
   ]
  },
  {
   "cell_type": "code",
   "execution_count": 7,
   "metadata": {},
   "outputs": [
    {
     "name": "stdout",
     "output_type": "stream",
     "text": [
      "True\n"
     ]
    }
   ],
   "source": [
    "long_phrase = 'Насколько проще было бы писать программы, если бы не заказчики';\n",
    "short_phrase = '640Кб должно хватить для любых задач. Билл Гейтс (по легенде)';\n",
    "if long_phrase>short_phrase:\n",
    "    print('True')\n",
    "else:\n",
    "    print('False')"
   ]
  },
  {
   "cell_type": "markdown",
   "metadata": {},
   "source": [
    "## Задание №2"
   ]
  },
  {
   "cell_type": "code",
   "execution_count": 16,
   "metadata": {},
   "outputs": [
    {
     "name": "stdout",
     "output_type": "stream",
     "text": [
      "Введите объём файла в байтах:10\n",
      "Объем файла равен  9.5367431640625e-06 Mb\n"
     ]
    }
   ],
   "source": [
    " value = int(input('Введите объём файла в байтах:'))\n",
    " value2 = value/(2**20)\n",
    " print('Объем файла равен ',value2,'Mb')\n",
    "    "
   ]
  },
  {
   "cell_type": "markdown",
   "metadata": {},
   "source": [
    "## Задание №3"
   ]
  },
  {
   "cell_type": "code",
   "execution_count": 55,
   "metadata": {},
   "outputs": [
    {
     "name": "stdout",
     "output_type": "stream",
     "text": [
      "Введите месяц:Февраль\n",
      "Введите число:11\n",
      "Вывод:Водолей\n"
     ]
    }
   ],
   "source": [
    "month1 = 'Январь'\n",
    "month2 = 'Февраль'\n",
    "month3 = 'Март' \n",
    "month4 = 'Апрель'\n",
    "month5 = 'Май' \n",
    "month6 = 'Июнь' \n",
    "month7 = 'Июль'\n",
    "month8 = 'Август'\n",
    "month9 = 'Сентябрь'\n",
    "month10 = 'Октябрь'\n",
    "month11 = 'Ноябрь'\n",
    "month12 = 'Декабрь'\n",
    "month = str(input('Введите месяц:'))\n",
    "value = int(input('Введите число:'))\n",
    "\n",
    "if month == month1 and (value >0 and value <= 19):\n",
    "   print('Вывод:Козерог')\n",
    "elif month == month1 and (value >= 20 and value <= 31):\n",
    "   print('Вывод:Водолей')\n",
    "\n",
    "if month == month2 and (value >0 and value <= 18):\n",
    "   print('Вывод:Водолей')\n",
    "elif month == month2 and (value >= 19 and value <= 29):\n",
    "   print('Вывод:Рыбы')\n",
    "\n",
    "if month == month3 and (value >0 and value <= 20):\n",
    "   print('Вывод:Рыбы')\n",
    "elif month == month3 and (value >= 21 and value <= 31):\n",
    "   print('Вывод:Овен')\n",
    "\n",
    "if month == month4 and (value >0 and value <= 20):\n",
    "   print('Вывод:Овен')\n",
    "elif month == month4 and (value >= 21 and value <= 30):\n",
    "   print('Вывод:Телец')\n",
    "\n",
    "if month == month5 and (value >0 and value <= 20):\n",
    "   print('Вывод:Телец')\n",
    "elif month == month5 and (value >= 21 and value <= 31):\n",
    "   print('Вывод:Близнецы')\n",
    "\n",
    "if month == month6 and (value >0 and value <= 20):\n",
    "   print('Вывод:Близнецы')\n",
    "elif month == month6 and (value >= 21 and value <= 30):\n",
    "   print('Вывод:Рак')\n",
    "\n",
    "if month == month7 and (value >0 and value <= 22):\n",
    "   print('Вывод:Рак')\n",
    "elif month == month7 and (value >= 23 and value <= 31):\n",
    "   print('Вывод:Лев')\n",
    "\n",
    "if month == month8 and (value >0 and value <= 22):\n",
    "   print('Вывод:Лев')\n",
    "elif month == month8 and (value >= 23 and value <= 31):\n",
    "   print('Вывод:Дева')\n",
    "\n",
    "if month == month9 and (value >0 and value <= 23):\n",
    "   print('Вывод:Дева')\n",
    "elif month == month9 and (value >= 24 and value <= 30):\n",
    "   print('Вывод:Весы')\n",
    "\n",
    "if month == month10 and (value >0 and value <= 23):\n",
    "   print('Вывод:Весы')\n",
    "elif month == month10 and (value >= 24 and value <= 31):\n",
    "   print('Вывод:Скорпион')\n",
    "\n",
    "if month == month11 and (value >0 and value <= 21):\n",
    "   print('Вывод:Скорпион')\n",
    "elif month == month11 and (value >= 22 and value <= 30):\n",
    "   print('Вывод:Стрелец')\n",
    "\n",
    "if month == month12 and (value >0 and value <= 21):\n",
    "   print('Вывод:Стрелец')\n",
    "elif month == month12 and (value >= 22 and value <= 31):\n",
    "   print('Вывод:Козерог')"
   ]
  },
  {
   "cell_type": "markdown",
   "metadata": {},
   "source": [
    "## Задание №4"
   ]
  },
  {
   "cell_type": "code",
   "execution_count": 67,
   "metadata": {
    "scrolled": true
   },
   "outputs": [
    {
     "name": "stdout",
     "output_type": "stream",
     "text": [
      "Введите заработанную плату в месяц: 100000\n",
      "Введите сколько процентов уходит на ипотеку: 10\n",
      "Введите сколько процентов уходит на жизнь: 20\n",
      "Введите количество премий за год: 2\n",
      "Вывод:\n",
      "На ипотеку было потрачено:  120000.0 рублей\n",
      "Было накоплено за год:  940000.0 рублей\n"
     ]
    }
   ],
   "source": [
    "wage = int(input('Введите заработанную плату в месяц: '))\n",
    "value1 = int(input('Введите сколько процентов уходит на ипотеку: '))\n",
    "mortgage = (wage/100)*value1\n",
    "value2 =int(input('Введите сколько процентов уходит на жизнь: '))\n",
    "life = (wage/100)*value2\n",
    "value3 = int(input('Введите количество премий за год: '))\n",
    "prizes = (wage/2)*value3\n",
    "pension = ((wage-(mortgage+life))*12)+prizes\n",
    "print('Вывод:')\n",
    "print('На ипотеку было потрачено: ',mortgage*12,'рублей')\n",
    "print('Было накоплено за год: ',pension,'рублей')"
   ]
  }
 ],
 "metadata": {
  "kernelspec": {
   "display_name": "Python 3",
   "language": "python",
   "name": "python3"
  },
  "language_info": {
   "codemirror_mode": {
    "name": "ipython",
    "version": 3
   },
   "file_extension": ".py",
   "mimetype": "text/x-python",
   "name": "python",
   "nbconvert_exporter": "python",
   "pygments_lexer": "ipython3",
   "version": "3.7.4"
  }
 },
 "nbformat": 4,
 "nbformat_minor": 2
}
